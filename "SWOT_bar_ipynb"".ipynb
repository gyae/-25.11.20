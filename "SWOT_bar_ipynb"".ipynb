{
  "nbformat": 4,
  "nbformat_minor": 0,
  "metadata": {
    "colab": {
      "name": "\"SWOT_bar.ipynb\"\"",
      "provenance": [],
      "collapsed_sections": [],
      "include_colab_link": true
    },
    "kernelspec": {
      "name": "python3",
      "display_name": "Python 3"
    }
  },
  "cells": [
    {
      "cell_type": "markdown",
      "metadata": {
        "id": "view-in-github",
        "colab_type": "text"
      },
      "source": [
        "<a href=\"https://colab.research.google.com/github/gyae/-25.11.20/blob/main/%22SWOT_bar_ipynb%22%22.ipynb\" target=\"_parent\"><img src=\"https://colab.research.google.com/assets/colab-badge.svg\" alt=\"Open In Colab\"/></a>"
      ]
    },
    {
      "cell_type": "markdown",
      "metadata": {
        "id": "08PPnLWvY6Qj"
      },
      "source": [
        "## **Ввод данных из таблицы:**"
      ]
    },
    {
      "cell_type": "code",
      "metadata": {
        "colab": {
          "base_uri": "https://localhost:8080/"
        },
        "id": "IXF0_gNCRH08",
        "outputId": "1f5c3eb3-15d0-4102-e419-0eb0c95362b4"
      },
      "source": [
        "\n",
        "'''Подготовка таблицы'''\n",
        "!date\n",
        "!pip -V\n",
        "!pwd\n",
        "import os\n",
        "os.getcwd()\n",
        "from google.colab import drive\n",
        "drive.mount('/content/drive')\n",
        "!pip install --upgrade gspread\n",
        "from google.colab import auth\n",
        "auth.authenticate_user()\n",
        "\n",
        "import gspread\n",
        "from oauth2client.client import GoogleCredentials\n",
        "gc = gspread.authorize(GoogleCredentials.get_application_default())\n",
        "table = gc.open_by_key('1eNV_C3zQCza3Yyx_2rcpYGC9-h_2mejcxQIASyWwDTE')\n",
        "print(table.worksheets())\n",
        "print (dir(table))"
      ],
      "execution_count": null,
      "outputs": [
        {
          "output_type": "stream",
          "text": [
            "Wed Jun 16 17:31:06 UTC 2021\n",
            "pip 19.3.1 from /usr/local/lib/python3.7/dist-packages/pip (python 3.7)\n",
            "/content\n",
            "Drive already mounted at /content/drive; to attempt to forcibly remount, call drive.mount(\"/content/drive\", force_remount=True).\n",
            "Requirement already up-to-date: gspread in /usr/local/lib/python3.7/dist-packages (3.7.0)\n",
            "Requirement already satisfied, skipping upgrade: google-auth>=1.12.0 in /usr/local/lib/python3.7/dist-packages (from gspread) (1.31.0)\n",
            "Requirement already satisfied, skipping upgrade: google-auth-oauthlib>=0.4.1 in /usr/local/lib/python3.7/dist-packages (from gspread) (0.4.4)\n",
            "Requirement already satisfied, skipping upgrade: setuptools>=40.3.0 in /usr/local/lib/python3.7/dist-packages (from google-auth>=1.12.0->gspread) (57.0.0)\n",
            "Requirement already satisfied, skipping upgrade: cachetools<5.0,>=2.0.0 in /usr/local/lib/python3.7/dist-packages (from google-auth>=1.12.0->gspread) (4.2.2)\n",
            "Requirement already satisfied, skipping upgrade: rsa<5,>=3.1.4; python_version >= \"3.6\" in /usr/local/lib/python3.7/dist-packages (from google-auth>=1.12.0->gspread) (4.7.2)\n",
            "Requirement already satisfied, skipping upgrade: six>=1.9.0 in /usr/local/lib/python3.7/dist-packages (from google-auth>=1.12.0->gspread) (1.15.0)\n",
            "Requirement already satisfied, skipping upgrade: pyasn1-modules>=0.2.1 in /usr/local/lib/python3.7/dist-packages (from google-auth>=1.12.0->gspread) (0.2.8)\n",
            "Requirement already satisfied, skipping upgrade: requests-oauthlib>=0.7.0 in /usr/local/lib/python3.7/dist-packages (from google-auth-oauthlib>=0.4.1->gspread) (1.3.0)\n",
            "Requirement already satisfied, skipping upgrade: pyasn1>=0.1.3 in /usr/local/lib/python3.7/dist-packages (from rsa<5,>=3.1.4; python_version >= \"3.6\"->google-auth>=1.12.0->gspread) (0.4.8)\n",
            "Requirement already satisfied, skipping upgrade: oauthlib>=3.0.0 in /usr/local/lib/python3.7/dist-packages (from requests-oauthlib>=0.7.0->google-auth-oauthlib>=0.4.1->gspread) (3.1.1)\n",
            "Requirement already satisfied, skipping upgrade: requests>=2.0.0 in /usr/local/lib/python3.7/dist-packages (from requests-oauthlib>=0.7.0->google-auth-oauthlib>=0.4.1->gspread) (2.23.0)\n",
            "Requirement already satisfied, skipping upgrade: certifi>=2017.4.17 in /usr/local/lib/python3.7/dist-packages (from requests>=2.0.0->requests-oauthlib>=0.7.0->google-auth-oauthlib>=0.4.1->gspread) (2021.5.30)\n",
            "Requirement already satisfied, skipping upgrade: chardet<4,>=3.0.2 in /usr/local/lib/python3.7/dist-packages (from requests>=2.0.0->requests-oauthlib>=0.7.0->google-auth-oauthlib>=0.4.1->gspread) (3.0.4)\n",
            "Requirement already satisfied, skipping upgrade: urllib3!=1.25.0,!=1.25.1,<1.26,>=1.21.1 in /usr/local/lib/python3.7/dist-packages (from requests>=2.0.0->requests-oauthlib>=0.7.0->google-auth-oauthlib>=0.4.1->gspread) (1.24.3)\n",
            "Requirement already satisfied, skipping upgrade: idna<3,>=2.5 in /usr/local/lib/python3.7/dist-packages (from requests>=2.0.0->requests-oauthlib>=0.7.0->google-auth-oauthlib>=0.4.1->gspread) (2.10)\n",
            "[<Worksheet 'Proceeds' id:1564650411>, <Worksheet 'SalaryInsurance' id:2000215357>, <Worksheet 'FixedAssets' id:1242655581>, <Worksheet 'CapitalСredit' id:1112471477>, <Worksheet 'Aside Prices' id:346906909>, <Worksheet 'Expenses' id:1409299421>, <Worksheet 'Raw' id:945680201>, <Worksheet 'Credits' id:349529397>, <Worksheet 'Diagram' id:1845067992>, <Worksheet 'Strenghts' id:153103749>, <Worksheet 'Weaknesses' id:1148361287>, <Worksheet 'Opportunities' id:1984485976>, <Worksheet 'Threats' id:1462044271>, <Worksheet 'Results' id:149698496>]\n",
            "['__class__', '__delattr__', '__dict__', '__dir__', '__doc__', '__eq__', '__format__', '__ge__', '__getattribute__', '__gt__', '__hash__', '__init__', '__init_subclass__', '__iter__', '__le__', '__lt__', '__module__', '__ne__', '__new__', '__reduce__', '__reduce_ex__', '__repr__', '__setattr__', '__sizeof__', '__str__', '__subclasshook__', '__weakref__', '_properties', '_spreadsheets_get', '_spreadsheets_sheets_copy_to', 'add_worksheet', 'batch_update', 'client', 'del_worksheet', 'duplicate_sheet', 'fetch_sheet_metadata', 'get_worksheet', 'id', 'list_permissions', 'remove_permissions', 'reorder_worksheets', 'share', 'sheet1', 'title', 'updated', 'url', 'values_append', 'values_batch_get', 'values_batch_update', 'values_clear', 'values_get', 'values_update', 'worksheet', 'worksheets']\n"
          ],
          "name": "stdout"
        }
      ]
    },
    {
      "cell_type": "markdown",
      "metadata": {
        "id": "KmcjsA4N5VVJ"
      },
      "source": [
        "**Прибыль:**"
      ]
    },
    {
      "cell_type": "code",
      "metadata": {
        "colab": {
          "base_uri": "https://localhost:8080/"
        },
        "id": "Yb5tQQz75VCx",
        "outputId": "140a05d6-5a75-4933-cb28-d2714e984ee9"
      },
      "source": [
        "'''Используем упрощеную систему налогооложения'''\n",
        "'''--------------------------------------------'''\n",
        "'''Планируемые доходы'''\n",
        "worksheet = table.worksheet(\"Proceeds\")\n",
        "rows = worksheet.get_all_values()\n",
        "#print(rows)\n",
        "name = list()\n",
        "price = list()\n",
        "count = list()\n",
        "value = list()\n",
        "value_sh = list()\n",
        "value_raw = list()\n",
        "i=0\n",
        "for row in rows:\n",
        "  if(i>3):\n",
        "    print (i, row)\n",
        "    name.append(row[0])\n",
        "    price.append(float(row[2]))\n",
        "    count.append(int(row[3]))\n",
        "    value.append(float(row[2])*int(row[3]))\n",
        "    value_raw = list()\n",
        "    value_raw.append(float(row[2])*int(row[3]))\n",
        "    value_sh.append(value_raw)\n",
        "  # print(value_raw, value_sh)\n",
        "  i+=1\n",
        "print(value_sh)\n",
        "worksheet.update('E5:E100', value_sh)\n",
        "print('\\nworksheet.get_all_values()',worksheet.get_all_values())\n",
        "print('\\n',name, price, count, value, sep='\\n', end='\\n\\n')\n",
        "proceeds = sum(value)\n",
        "print('Планируемые доходы в год составят:', proceeds)\n",
        "print('Планируемые доходы в месяц составят:', proceeds // 12)"
      ],
      "execution_count": null,
      "outputs": [
        {
          "output_type": "stream",
          "text": [
            "4 ['Пиво Светлое Нефильтрованное ', 'руб/0.4л', '200', '140000']\n",
            "5 ['Пиво Тёмное Фильтрованное', 'руб/0.4л', '200', '100000']\n",
            "6 ['Пиво Тёмное Неильтрованное', 'руб/0.4л', '200', '80000']\n",
            "7 ['Арахисовый Эль', 'руб/0.4л', '320', '50000']\n",
            "8 ['Пиво Кокосовое', 'руб/0.4л', '280', '70000']\n",
            "9 ['Яблочный Сидр', 'руб/0.4л', '250', '40000']\n",
            "10 ['Вишёвый Эль', 'руб/0.4л', '250', '40000']\n",
            "11 ['Мохито', 'руб/0.2л', '250', '15000']\n",
            "12 ['Виски-кола', 'руб/0.2л', '250', '25000']\n",
            "13 ['Лонг-айленд', 'руб/0.2л', '250', '30000']\n",
            "14 ['Пина-Колада', 'руб/0.2л', '250', '6000']\n",
            "15 ['Кровавая Мэри', 'руб/0.2л', '250', '6000']\n",
            "16 ['Джин-Тоник', 'руб/0.2л', '250', '9000']\n",
            "17 ['Ягербомб', 'руб/0.2л', '350', '12000']\n",
            "18 ['Куба-либре', 'руб/0.2л', '250', '12000']\n",
            "19 ['Глинтвейн', 'руб/0.3л', '360', '16000']\n",
            "20 ['Виски', 'руб/0.04л', '380', '40000']\n",
            "21 ['Ром Бакарди', 'руб/0.04л', '320', '35000']\n",
            "22 ['Вино Красное Сухое', 'руб/0.7л', '1800', '20000']\n",
            "23 ['Вино Белое Сухое', 'руб/0.75л', '1900', '19000']\n",
            "24 ['Пиво Безалкогольное', 'руб/0.4л', '170', '5000']\n",
            "25 ['Фисташки', 'руб/50гр', '180', '80000']\n",
            "26 ['Лимон', 'руб/30гр', '30', '70000']\n",
            "27 ['Арахис', 'руб/50гр', '80', '120000']\n",
            "28 ['Шоколад тёмный', 'руб/100гр', '80', '10000']\n",
            "29 ['Сухарики', 'руб/50гр', '70', '110000']\n",
            "30 ['Яблоки', 'руб/200гр', '100', '60000']\n",
            "[[28000000.0], [20000000.0], [16000000.0], [16000000.0], [19600000.0], [10000000.0], [10000000.0], [3750000.0], [6250000.0], [7500000.0], [1500000.0], [1500000.0], [2250000.0], [4200000.0], [3000000.0], [5760000.0], [15200000.0], [11200000.0], [36000000.0], [36100000.0], [850000.0], [14400000.0], [2100000.0], [9600000.0], [800000.0], [7700000.0], [6000000.0]]\n",
            "\n",
            "worksheet.get_all_values() [['Таблица . Плановые доходы (для целей налогообложения)', '', '', '', ''], ['', '', '', '', ''], ['Наименование позиции', 'Единицы измерения', 'Цена', 'Количество за год', ''], ['Пиво Светлое Фильтрованное ', 'руб/0.4л', '200', '146000', ''], ['Пиво Светлое Нефильтрованное ', 'руб/0.4л', '200', '140000', '28000000'], ['Пиво Тёмное Фильтрованное', 'руб/0.4л', '200', '100000', '20000000'], ['Пиво Тёмное Неильтрованное', 'руб/0.4л', '200', '80000', '16000000'], ['Арахисовый Эль', 'руб/0.4л', '320', '50000', '16000000'], ['Пиво Кокосовое', 'руб/0.4л', '280', '70000', '19600000'], ['Яблочный Сидр', 'руб/0.4л', '250', '40000', '10000000'], ['Вишёвый Эль', 'руб/0.4л', '250', '40000', '10000000'], ['Мохито', 'руб/0.2л', '250', '15000', '3750000'], ['Виски-кола', 'руб/0.2л', '250', '25000', '6250000'], ['Лонг-айленд', 'руб/0.2л', '250', '30000', '7500000'], ['Пина-Колада', 'руб/0.2л', '250', '6000', '1500000'], ['Кровавая Мэри', 'руб/0.2л', '250', '6000', '1500000'], ['Джин-Тоник', 'руб/0.2л', '250', '9000', '2250000'], ['Ягербомб', 'руб/0.2л', '350', '12000', '4200000'], ['Куба-либре', 'руб/0.2л', '250', '12000', '3000000'], ['Глинтвейн', 'руб/0.3л', '360', '16000', '5760000'], ['Виски', 'руб/0.04л', '380', '40000', '15200000'], ['Ром Бакарди', 'руб/0.04л', '320', '35000', '11200000'], ['Вино Красное Сухое', 'руб/0.7л', '1800', '20000', '36000000'], ['Вино Белое Сухое', 'руб/0.75л', '1900', '19000', '36100000'], ['Пиво Безалкогольное', 'руб/0.4л', '170', '5000', '850000'], ['Фисташки', 'руб/50гр', '180', '80000', '14400000'], ['Лимон', 'руб/30гр', '30', '70000', '2100000'], ['Арахис', 'руб/50гр', '80', '120000', '9600000'], ['Шоколад тёмный', 'руб/100гр', '80', '10000', '800000'], ['Сухарики', 'руб/50гр', '70', '110000', '7700000'], ['Яблоки', 'руб/200гр', '100', '60000', '6000000']]\n",
            "\n",
            "\n",
            "['Пиво Светлое Нефильтрованное ', 'Пиво Тёмное Фильтрованное', 'Пиво Тёмное Неильтрованное', 'Арахисовый Эль', 'Пиво Кокосовое', 'Яблочный Сидр', 'Вишёвый Эль', 'Мохито', 'Виски-кола', 'Лонг-айленд', 'Пина-Колада', 'Кровавая Мэри', 'Джин-Тоник', 'Ягербомб', 'Куба-либре', 'Глинтвейн', 'Виски', 'Ром Бакарди', 'Вино Красное Сухое', 'Вино Белое Сухое', 'Пиво Безалкогольное', 'Фисташки', 'Лимон', 'Арахис', 'Шоколад тёмный', 'Сухарики', 'Яблоки']\n",
            "[200.0, 200.0, 200.0, 320.0, 280.0, 250.0, 250.0, 250.0, 250.0, 250.0, 250.0, 250.0, 250.0, 350.0, 250.0, 360.0, 380.0, 320.0, 1800.0, 1900.0, 170.0, 180.0, 30.0, 80.0, 80.0, 70.0, 100.0]\n",
            "[140000, 100000, 80000, 50000, 70000, 40000, 40000, 15000, 25000, 30000, 6000, 6000, 9000, 12000, 12000, 16000, 40000, 35000, 20000, 19000, 5000, 80000, 70000, 120000, 10000, 110000, 60000]\n",
            "[28000000.0, 20000000.0, 16000000.0, 16000000.0, 19600000.0, 10000000.0, 10000000.0, 3750000.0, 6250000.0, 7500000.0, 1500000.0, 1500000.0, 2250000.0, 4200000.0, 3000000.0, 5760000.0, 15200000.0, 11200000.0, 36000000.0, 36100000.0, 850000.0, 14400000.0, 2100000.0, 9600000.0, 800000.0, 7700000.0, 6000000.0]\n",
            "\n",
            "Планируемые доходы в год составят: 295260000.0\n",
            "Планируемые доходы в месяц составят: 24605000.0\n"
          ],
          "name": "stdout"
        }
      ]
    },
    {
      "cell_type": "markdown",
      "metadata": {
        "id": "Q1JUz-Wq6ow5"
      },
      "source": [
        "**Затраты:**"
      ]
    },
    {
      "cell_type": "code",
      "metadata": {
        "colab": {
          "base_uri": "https://localhost:8080/"
        },
        "id": "eC4Fe8Zf6oa-",
        "outputId": "4f221009-2fcd-4312-c4ea-a09504b32d1a"
      },
      "source": [
        "worksheet = table.worksheet(\"SalaryInsurance\")\n",
        "rows = worksheet.get_all_values()\n",
        "#print(rows)\n",
        "name = list()\n",
        "permanent_salary = list()\n",
        "percentage_of_revenue = list()\n",
        "insurance= list()\n",
        "i = 0 \n",
        "for row in rows:\n",
        "  if(i>2):\n",
        "    print (i, row)\n",
        "    name.append(row[0])\n",
        "    permanent_salary.append(float(row[1]))\n",
        "    percentage_of_revenue.append(float(row[2]))\n",
        "    insurance.append(float(row[3]))\n",
        "  i+=1\n",
        "print('\\n', name, permanent_salary, percentage_of_revenue, insurance, sep='\\n', end='\\n\\n')\n",
        "print('Выручка: ',proceeds)\n",
        "all_permanent_salary = 12 *sum(permanent_salary)\n",
        "print('Постоянная составляющая зарплаты:', all_permanent_salary) \n",
        "all_variable_salary =  proceeds*(sum(percentage_of_revenue))/100\n",
        "print('Переменная составляющая зарплаты', all_variable_salary)\n",
        "all_salary = all_permanent_salary + all_variable_salary \n",
        "print('Зарплата (постоянная + переменная), в тч НДФЛ: ', all_salary)\n",
        "insurance = insurance[0]*all_salary/100\n",
        "print('Страховые взносы', insurance)\n",
        "personnel_costs = all_salary + insurance\n",
        "print('Планируемая зарплата и страховые взносы:', personnel_costs)"
      ],
      "execution_count": null,
      "outputs": [
        {
          "output_type": "stream",
          "text": [
            "3 ['Директор', '45000', '1', '30', '13']\n",
            "4 ['Бармен', '35000', '5', '30', '13']\n",
            "5 ['Администратор', '40000', '0.5', '30', '13']\n",
            "6 ['Официант 1', '30000', '0.5', '30', '13']\n",
            "7 ['Официант 2', '30000', '0.5', '30', '13']\n",
            "8 ['Бухгалтер', '30000', '0.5', '30', '13']\n",
            "\n",
            "\n",
            "['Директор', 'Бармен', 'Администратор', 'Официант 1', 'Официант 2', 'Бухгалтер']\n",
            "[45000.0, 35000.0, 40000.0, 30000.0, 30000.0, 30000.0]\n",
            "[1.0, 5.0, 0.5, 0.5, 0.5, 0.5]\n",
            "[30.0, 30.0, 30.0, 30.0, 30.0, 30.0]\n",
            "\n",
            "Выручка:  295260000.0\n",
            "Постоянная составляющая зарплаты: 2520000.0\n",
            "Переменная составляющая зарплаты 23620800.0\n",
            "Зарплата (постоянная + переменная), в тч НДФЛ:  26140800.0\n",
            "Страховые взносы 7842240.0\n",
            "Планируемая зарплата и страховые взносы: 33983040.0\n"
          ],
          "name": "stdout"
        }
      ]
    },
    {
      "cell_type": "code",
      "metadata": {
        "colab": {
          "base_uri": "https://localhost:8080/"
        },
        "id": "kHH46LjA8Br_",
        "outputId": "8c055a51-e93c-4ee6-af48-c34602c955ad"
      },
      "source": [
        "'''Основные средства'''\n",
        "worksheet = table.worksheet(\"FixedAssets\")\n",
        "rows = worksheet.get_all_values()\n",
        "#print(rows)\n",
        "name = list()\n",
        "price = list()\n",
        "count = list()\n",
        "value = list()\n",
        "i=0\n",
        "for row in rows:\n",
        "  if(i>3):\n",
        "    print (i, row)\n",
        "    name.append(row[1])\n",
        "    price.append(float(row[2]))\n",
        "    count.append(int(row[3]))\n",
        "    value.append(float(row[2])*int(row[3]))\n",
        "  i+=1\n",
        "print('\\n', name, price, count, value, sep='\\n', end='\\n\\n')\n",
        "FixedAssets_Cost = sum(value)\n",
        "print('Основные средства:', FixedAssets_Cost)"
      ],
      "execution_count": null,
      "outputs": [
        {
          "output_type": "stream",
          "text": [
            "4 ['В основном зале', 'Барные стулья', '3000', '5']\n",
            "5 ['В основном зале', 'Столик', '7800', '5']\n",
            "6 ['В основном зале', 'Стулья обычные', '1500', '20']\n",
            "7 ['В основном зале', 'Декор', '100000', '1']\n",
            "8 ['В основном зале', 'Инструменты для уборки помещения', '400', '1']\n",
            "9 ['В основном зале', 'Ремонт', '150000', '1']\n",
            "10 ['В основном зале', 'Неоновая подсветка', '20000', '1']\n",
            "11 ['В основном зале', 'Освещение', '50000', '1']\n",
            "12 ['В основном зале', 'Барный шкаф с красивыми бутылками', '16000', '1']\n",
            "13 ['В основном зале', 'Вся посуда', '30000', '1']\n",
            "14 ['В основном зале', 'Кассовый аппарат', '14000', '1']\n",
            "15 ['В комнате администратора', 'Стол', '3700', '1']\n",
            "16 ['В комнате администратора', 'Компьютер', '30000', '1']\n",
            "17 ['В комнате администратора', 'Принтер', '3500', '1']\n",
            "18 ['В комнате администратора', 'Стул', '1500', '3']\n",
            "19 ['В комнате администратора', 'Инструменты для уборки помещения', '400', '2']\n",
            "\n",
            "\n",
            "['Барные стулья', 'Столик', 'Стулья обычные', 'Декор', 'Инструменты для уборки помещения', 'Ремонт', 'Неоновая подсветка', 'Освещение', 'Барный шкаф с красивыми бутылками', 'Вся посуда', 'Кассовый аппарат', 'Стол', 'Компьютер', 'Принтер', 'Стул', 'Инструменты для уборки помещения']\n",
            "[3000.0, 7800.0, 1500.0, 100000.0, 400.0, 150000.0, 20000.0, 50000.0, 16000.0, 30000.0, 14000.0, 3700.0, 30000.0, 3500.0, 1500.0, 400.0]\n",
            "[5, 5, 20, 1, 1, 1, 1, 1, 1, 1, 1, 1, 1, 1, 3, 2]\n",
            "[15000.0, 39000.0, 30000.0, 100000.0, 400.0, 150000.0, 20000.0, 50000.0, 16000.0, 30000.0, 14000.0, 3700.0, 30000.0, 3500.0, 4500.0, 800.0]\n",
            "\n",
            "Основные средства: 506900.0\n"
          ],
          "name": "stdout"
        }
      ]
    },
    {
      "cell_type": "code",
      "metadata": {
        "colab": {
          "base_uri": "https://localhost:8080/"
        },
        "id": "cCPOY_wS8Okb",
        "outputId": "ca650fe3-b81c-45d9-86bb-86b199938a7b"
      },
      "source": [
        "'''Уставной капитал, кредит'''\n",
        "worksheet = table.worksheet(\"CapitalСredit\")\n",
        "rows = worksheet.get_all_values()\n",
        "#print(rows)\n",
        "name = list()\n",
        "value = list()\n",
        "i=0\n",
        "for row in rows:\n",
        "  if(i>3):\n",
        "    print (i, row)\n",
        "    name.append(row[0])\n",
        "    value.append(float(row[1]))\n",
        "  i+=1\n",
        "capital = value[0]\n",
        "print(name[0], capital)\n",
        "credit = value[1]\n",
        "print(name[1], credit)\n",
        "percent = value[2]\n",
        "print(name[2], percent)\n",
        "cost_of_credit = credit*percent/100\n",
        "print('Годовая стоимость кредита составит: ',cost_of_credit)\n"
      ],
      "execution_count": null,
      "outputs": [
        {
          "output_type": "stream",
          "text": [
            "4 ['Уставной капитал, руб', '2000000']\n",
            "5 ['Величина кредита, руб', '1000000']\n",
            "6 ['Годовая процентная ставка, %', '9']\n",
            "Уставной капитал, руб 2000000.0\n",
            "Величина кредита, руб 1000000.0\n",
            "Годовая процентная ставка, % 9.0\n",
            "Годовая стоимость кредита составит:  90000.0\n"
          ],
          "name": "stdout"
        }
      ]
    },
    {
      "cell_type": "code",
      "metadata": {
        "colab": {
          "base_uri": "https://localhost:8080/"
        },
        "id": "3l8bFs0f_MFg",
        "outputId": "f5910b4a-50ce-4548-b421-9d6a45a163e5"
      },
      "source": [
        "'''Текущие расходы'''\n",
        "worksheet = table.worksheet(\"Expenses\")\n",
        "rows = worksheet.get_all_values()\n",
        "#print(rows)\n",
        "name = list()\n",
        "value = list()\n",
        "i=0\n",
        "for row in rows:\n",
        "  if(i>0) and (i<12):\n",
        "    print (i, row)\n",
        "    name.append(row[0])\n",
        "    value.append(float(row[1]))\n",
        "  i+=1\n",
        "current_expensis = sum(value)\n",
        "print('Текущие расходы в течение года: : ', current_expensis)\n",
        "print('Текущие расходы в течение месяца: : ', current_expensis//12)"
      ],
      "execution_count": null,
      "outputs": [
        {
          "output_type": "stream",
          "text": [
            "1 ['Аренда помещения', '40000']\n",
            "2 ['Коммунальные платежи', '9000']\n",
            "3 ['Расходники для работы', '5000']\n",
            "4 ['Сигнализация', '10000']\n",
            "5 ['Реклама', '15000']\n",
            "6 ['Канцтовары', '2000']\n",
            "7 ['Банковское обслуживание', '5000']\n",
            "8 ['Поставка пива', '1387000']\n",
            "9 ['Поставка вина', '1950000']\n",
            "10 ['Поставка крепких напитков', '2000000']\n",
            "11 ['Поставка безалкогольных напитков', '100000']\n",
            "Текущие расходы в течение года: :  5523000.0\n",
            "Текущие расходы в течение месяца: :  460250.0\n"
          ],
          "name": "stdout"
        }
      ]
    },
    {
      "cell_type": "code",
      "metadata": {
        "colab": {
          "base_uri": "https://localhost:8080/"
        },
        "id": "BKwlZnFrAq9X",
        "outputId": "4fa3afdc-e97f-4d2d-c18f-ed2ad548afb0"
      },
      "source": [
        "'''Налоги и прибыль'''\n",
        "print('Планируемые доходы составят:', proceeds)\n",
        "print('Затраты на зарплату в том числе страховые взносы  составят :', personnel_costs)\n",
        "print('Стоимость основных средств составит:', FixedAssets_Cost)\n",
        "print('Годовая стоимость кредита составит: ',cost_of_credit)\n",
        "print('Текущие расходы в течение года: ',current_expensis)\n",
        "incom_expenses = proceeds - personnel_costs - FixedAssets_Cost - cost_of_credit - current_expensis\n",
        "print('Доходы - Расходы:', incom_expenses)\n",
        "income_tax = 15 # налог на прибыль, %\n",
        "value_of_income_tax = income_tax * incom_expenses / 100.\n",
        "print ('Налог  на прибыль составит: ', value_of_income_tax )\n",
        "print ('Чистая прибыль составит : ', incom_expenses - value_of_income_tax )"
      ],
      "execution_count": null,
      "outputs": [
        {
          "output_type": "stream",
          "text": [
            "Планируемые доходы составят: 295260000.0\n",
            "Затраты на зарплату в том числе страховые взносы  составят : 33983040.0\n",
            "Стоимость основных средств составит: 506900.0\n",
            "Годовая стоимость кредита составит:  77000.0\n",
            "Текущие расходы в течение года:  5523000.0\n",
            "Доходы - Расходы: 255170060.0\n",
            "Налог  на прибыль составит:  38275509.0\n",
            "Чистая прибыль составит :  216894551.0\n"
          ],
          "name": "stdout"
        }
      ]
    },
    {
      "cell_type": "markdown",
      "metadata": {
        "id": "vSaepCdxLlfa"
      },
      "source": [
        "**Рассчёт наиболее выгодного кредита:**"
      ]
    },
    {
      "cell_type": "code",
      "metadata": {
        "colab": {
          "base_uri": "https://localhost:8080/"
        },
        "id": "kC9NHJwvEB5j",
        "outputId": "14717f8e-82dd-43f1-c76d-2627c46ee9fb"
      },
      "source": [
        "worksheet = table.worksheet('Credits')\n",
        "rows = worksheet.get_all_values()\n",
        "\n",
        "i=0\n",
        "min = 100\n",
        "lps = '' #лучшая процентная ставка\n",
        "for row in rows:\n",
        "  if(i<5 and i>1):\n",
        "    if (float(row[3]) < min) :\n",
        "      min=float(row[3])\n",
        "      lps=row[0]\n",
        "  i+=1\n",
        "print('Лучшая процентная ставка у банка: ',lps)\n",
        "\n",
        "i=0\n",
        "max = 0\n",
        "lsk = '' #лучшая сумма кредита\n",
        "for row in rows:\n",
        "  if(i<5 and i>1):\n",
        "    if (float(row[2]) > max) :\n",
        "      max=float(row[2])\n",
        "      lsk=row[0]\n",
        "  i+=1\n",
        "print('Лучшая сумма кредита у банка: ',lsk)\n",
        "\n",
        "i=0\n",
        "max2 = 0\n",
        "msk = 0 #максимальный срок кредита\n",
        "for row in rows:\n",
        "  if(i<5 and i>1):\n",
        "    if (float(row[6]) > max2) :\n",
        "      max2=float(row[6])\n",
        "      msk=row[0]\n",
        "  i+=1\n",
        "print('Максимальный срок кредита у банка: ',msk)"
      ],
      "execution_count": null,
      "outputs": [
        {
          "output_type": "stream",
          "text": [
            "Лучшая процентная ставка у банка:  ВТБ\n",
            "Лучшая сумма кредита у банка:  Тинькофф\n",
            "Максимальный срок кредита у банка:  Тинькофф\n"
          ],
          "name": "stdout"
        }
      ]
    },
    {
      "cell_type": "markdown",
      "metadata": {
        "id": "xeyO8E6NZHaW"
      },
      "source": [
        "**Сильные стороны:**"
      ]
    },
    {
      "cell_type": "code",
      "metadata": {
        "colab": {
          "base_uri": "https://localhost:8080/",
          "height": 1000
        },
        "id": "wvmzkb5AbUKx",
        "outputId": "5e821b2b-b8cd-4413-f2a0-6e34103e7cba"
      },
      "source": [
        "import os\n",
        "import time\n",
        "from google.colab import auth\n",
        "auth.authenticate_user()\n",
        "!pip install --upgrade gspread\n",
        "import gspread\n",
        "from oauth2client.client import GoogleCredentials\n",
        "print('\\nРАБОТА С ТАБЛИЦЕЙ')\n",
        "%ll -lAF /content/drive/MyDrive/\n",
        "gs = gspread.authorize(GoogleCredentials.get_application_default())\n",
        "os.stat('/content/drive/MyDrive/fin_swot_bar.gsheet')\n",
        "table = gs.open_by_key('1eNV_C3zQCza3Yyx_2rcpYGC9-h_2mejcxQIASyWwDTE')\n",
        "worksheet = table.worksheet('Strengths')\n",
        "rows = worksheet.get_all_values()\n",
        "name = list()\n",
        "actions = list()\n",
        "importance = list()\n",
        "probability = list()\n",
        "power = list()\n",
        "power_sh = list()\n",
        "power_raw = list()\n",
        "i=0\n",
        "for row in rows:\n",
        "  if(i>0):\n",
        "    print (i, row)\n",
        "    name.append(row[0])\n",
        "    actions.append(row[1])\n",
        "    importance.append(int(row[2]))\n",
        "    probability.append(float(row[3]))\n",
        "    power.append(int(row[2])*float(row[3]))\n",
        "    power_raw = list()\n",
        "    power_raw.append(int(row[2])*float(row[3])) #считается сила\n",
        "    power_sh.append(power_raw)\n",
        "  i+=1\n",
        "worksheet.update('E2:E8', power_sh)\n",
        "print('\\n',name, actions, importance, probability, power, sep='\\n', end='\\n\\n')\n",
        "strengths_sum = sum(power)\n",
        "print('Суммарная сила сильных сторон:', strengths_sum)\n",
        "worksheet.update('F2', strengths_sum)\n",
        "\n",
        "import matplotlib\n",
        "import matplotlib.pyplot as plt\n",
        "import numpy as np\n",
        "i=0\n",
        "labels = list()\n",
        "cols = worksheet.col_values(1)\n",
        "for col in cols: #добавление значений name\n",
        "  if(i>0):\n",
        "    labels.append(i)\n",
        "  i+=1\n",
        "width = 0.4  #ширина колонок\n",
        "fig, ax = plt.subplots()\n",
        "x = np.arange(len(labels))\n",
        "rects = ax.bar(x - width/2, power, width)\n",
        "ax.set_ylabel('Мощность воздействия')\n",
        "ax.set_title('Сильные стороны')\n",
        "ax.set_xticks(x)\n",
        "ax.set_xticklabels(labels)\n",
        "def autolabel(rects):\n",
        "    #Добавление значений над диграммами\n",
        "    for rect in rects:\n",
        "        height = rect.get_height()\n",
        "        ax.annotate('{}'.format(height),\n",
        "                    xy=(rect.get_x() + rect.get_width() / 2, height),\n",
        "                    xytext=(0, 3), \n",
        "                    textcoords=\"offset points\",\n",
        "                    ha='center', va='bottom')\n",
        "autolabel(rects) #значения над колонками\n",
        "fig.tight_layout()\n",
        "plt.show()              \n",
        "j=0\n",
        "for col in cols: #печать обозначений под диаграммой\n",
        "  if(j>0):\n",
        "    print(j, '-', col)\n",
        "  j+=1"
      ],
      "execution_count": null,
      "outputs": [
        {
          "output_type": "stream",
          "text": [
            "Requirement already up-to-date: gspread in /usr/local/lib/python3.7/dist-packages (3.7.0)\n",
            "Requirement already satisfied, skipping upgrade: google-auth>=1.12.0 in /usr/local/lib/python3.7/dist-packages (from gspread) (1.31.0)\n",
            "Requirement already satisfied, skipping upgrade: google-auth-oauthlib>=0.4.1 in /usr/local/lib/python3.7/dist-packages (from gspread) (0.4.4)\n",
            "Requirement already satisfied, skipping upgrade: cachetools<5.0,>=2.0.0 in /usr/local/lib/python3.7/dist-packages (from google-auth>=1.12.0->gspread) (4.2.2)\n",
            "Requirement already satisfied, skipping upgrade: setuptools>=40.3.0 in /usr/local/lib/python3.7/dist-packages (from google-auth>=1.12.0->gspread) (57.0.0)\n",
            "Requirement already satisfied, skipping upgrade: rsa<5,>=3.1.4; python_version >= \"3.6\" in /usr/local/lib/python3.7/dist-packages (from google-auth>=1.12.0->gspread) (4.7.2)\n",
            "Requirement already satisfied, skipping upgrade: six>=1.9.0 in /usr/local/lib/python3.7/dist-packages (from google-auth>=1.12.0->gspread) (1.15.0)\n",
            "Requirement already satisfied, skipping upgrade: pyasn1-modules>=0.2.1 in /usr/local/lib/python3.7/dist-packages (from google-auth>=1.12.0->gspread) (0.2.8)\n",
            "Requirement already satisfied, skipping upgrade: requests-oauthlib>=0.7.0 in /usr/local/lib/python3.7/dist-packages (from google-auth-oauthlib>=0.4.1->gspread) (1.3.0)\n",
            "Requirement already satisfied, skipping upgrade: pyasn1>=0.1.3 in /usr/local/lib/python3.7/dist-packages (from rsa<5,>=3.1.4; python_version >= \"3.6\"->google-auth>=1.12.0->gspread) (0.4.8)\n",
            "Requirement already satisfied, skipping upgrade: requests>=2.0.0 in /usr/local/lib/python3.7/dist-packages (from requests-oauthlib>=0.7.0->google-auth-oauthlib>=0.4.1->gspread) (2.23.0)\n",
            "Requirement already satisfied, skipping upgrade: oauthlib>=3.0.0 in /usr/local/lib/python3.7/dist-packages (from requests-oauthlib>=0.7.0->google-auth-oauthlib>=0.4.1->gspread) (3.1.1)\n",
            "Requirement already satisfied, skipping upgrade: certifi>=2017.4.17 in /usr/local/lib/python3.7/dist-packages (from requests>=2.0.0->requests-oauthlib>=0.7.0->google-auth-oauthlib>=0.4.1->gspread) (2021.5.30)\n",
            "Requirement already satisfied, skipping upgrade: idna<3,>=2.5 in /usr/local/lib/python3.7/dist-packages (from requests>=2.0.0->requests-oauthlib>=0.7.0->google-auth-oauthlib>=0.4.1->gspread) (2.10)\n",
            "Requirement already satisfied, skipping upgrade: chardet<4,>=3.0.2 in /usr/local/lib/python3.7/dist-packages (from requests>=2.0.0->requests-oauthlib>=0.7.0->google-auth-oauthlib>=0.4.1->gspread) (3.0.4)\n",
            "Requirement already satisfied, skipping upgrade: urllib3!=1.25.0,!=1.25.1,<1.26,>=1.21.1 in /usr/local/lib/python3.7/dist-packages (from requests>=2.0.0->requests-oauthlib>=0.7.0->google-auth-oauthlib>=0.4.1->gspread) (1.24.3)\n",
            "\n",
            "РАБОТА С ТАБЛИЦЕЙ\n",
            "total 264\n",
            "-rw------- 1 root   151 Jun 16 17:31  bar.gsheet\n",
            "-rw------- 1 root 29689 Apr 14 17:45  bar.xlsx\n",
            "drwx------ 2 root  4096 Oct 30  2020 \u001b[0m\u001b[01;34m'Colab Notebooks'\u001b[0m/\n",
            "-rw------- 1 root   151 Jun 16 17:32  fin_swot_bar.gsheet\n",
            "-rw------- 1 root 12432 Mar  3 21:13  soundgraph.png\n",
            "-rw------- 1 root   151 Apr 12 12:19  studio.gsheet\n",
            "-rw------- 1 root 29689 Apr 14 17:44  studio.xlsx\n",
            "-rw------- 1 root   151 Mar  3 21:11  swot_sound.gsheet\n",
            "-rw------- 1 root   151 Feb 23 12:58  Бар.gsheet\n",
            "-rw------- 1 root 93413 Jun 16 17:17  Бар.xlsx\n",
            "-rw------- 1 root 93413 Jun 16 17:19 'Копия Бар2.xlsx'\n",
            "drwx------ 2 root  4096 Apr 20 15:58  \u001b[01;34mСемики\u001b[0m/\n",
            "1 ['Дружелюбный персонал', 'Вежливые сотрудники, которые смогут быстро найти подход к любому клиенту', '8', '0.90', '7,2', '37.45']\n",
            "2 ['Уютный интерьер', 'Приятный интереьер в баре позволит клиентам комфортно проводить время', '8', '0.9', '7,2', '']\n",
            "3 ['Качественные напитки', 'Качественные напитки удовлетворят клиентов и позволят им насладиться вечером', '9', '0.95', '8,55', '']\n",
            "4 ['Маркейтинг', 'Качественная реклама в интернете', '9', '0.9', '8,1', '']\n",
            "5 ['Расположение', 'Хорошее расположение в центре города', '8', '0.8', '6,4', '']\n",
            "\n",
            "\n",
            "['Дружелюбный персонал', 'Уютный интерьер', 'Качественные напитки', 'Маркейтинг', 'Расположение']\n",
            "['Вежливые сотрудники, которые смогут быстро найти подход к любому клиенту', 'Приятный интереьер в баре позволит клиентам комфортно проводить время', 'Качественные напитки удовлетворят клиентов и позволят им насладиться вечером', 'Качественная реклама в интернете', 'Хорошее расположение в центре города']\n",
            "[8, 8, 9, 9, 8]\n",
            "[0.9, 0.9, 0.95, 0.9, 0.8]\n",
            "[7.2, 7.2, 8.549999999999999, 8.1, 6.4]\n",
            "\n",
            "Суммарная сила сильных сторон: 37.449999999999996\n"
          ],
          "name": "stdout"
        },
        {
          "output_type": "display_data",
          "data": {
            "image/png": "[encoded data removed]",
            "text/plain": [
              "<Figure size 432x288 with 1 Axes>"
            ]
          },
          "metadata": {
            "tags": [],
            "needs_background": "light"
          }
        },
        {
          "output_type": "stream",
          "text": [
            "1 - Дружелюбный персонал\n",
            "2 - Уютный интерьер\n",
            "3 - Качественные напитки\n",
            "4 - Маркейтинг\n",
            "5 - Расположение\n"
          ],
          "name": "stdout"
        }
      ]
    },
    {
      "cell_type": "markdown",
      "metadata": {
        "id": "TuC7aoSOZa3Y"
      },
      "source": [
        "**Слабые стороны:**"
      ]
    },
    {
      "cell_type": "code",
      "metadata": {
        "colab": {
          "base_uri": "https://localhost:8080/",
          "height": 1000
        },
        "id": "6HheDVGzdNdO",
        "outputId": "012559a7-1b16-46d7-c90f-17322b06c8e6"
      },
      "source": [
        "import os\n",
        "import time\n",
        "from google.colab import auth\n",
        "auth.authenticate_user()\n",
        "!pip install --upgrade gspread\n",
        "import gspread\n",
        "from oauth2client.client import GoogleCredentials\n",
        "print('\\nРАБОТА С ТАБЛИЦЕЙ')\n",
        "%ll -lAF /content/drive/MyDrive/\n",
        "gs = gspread.authorize(GoogleCredentials.get_application_default())\n",
        "os.stat('/content/drive/MyDrive/studio.gsheet')\n",
        "table = gs.open_by_key('1s9N7lvuJoOZC2Vv6u-I3Cibq5LEohgl7nbx4F7durMw')\n",
        "worksheet = table.worksheet('Weaknesses')\n",
        "rows = worksheet.get_all_values()\n",
        "name = list()\n",
        "actions = list()\n",
        "importance = list()\n",
        "probability = list()\n",
        "power = list()\n",
        "power_sh = list()\n",
        "power_raw = list()\n",
        "i=0\n",
        "for row in rows:\n",
        "  if(i>0):\n",
        "    print (i, row)\n",
        "    name.append(row[0])\n",
        "    actions.append(row[1])\n",
        "    importance.append(int(row[2]))\n",
        "    probability.append(float(row[3]))\n",
        "    power.append(int(row[2])*float(row[3]))\n",
        "    power_raw = list()\n",
        "    power_raw.append(int(row[2])*float(row[3])) #считается сила\n",
        "    power_sh.append(power_raw)\n",
        "  i+=1\n",
        "worksheet.update('E2:E8', power_sh)\n",
        "print('\\n',name, actions, importance, probability, power, sep='\\n', end='\\n\\n')\n",
        "weaknesses_sum = sum(power)\n",
        "print('Суммарная сила слабых сторон:', weaknesses_sum)\n",
        "worksheet.update('F2', weaknesses_sum)\n",
        "\n",
        "import matplotlib\n",
        "import matplotlib.pyplot as plt\n",
        "import numpy as np\n",
        "i=0\n",
        "labels = list()\n",
        "cols = worksheet.col_values(1)\n",
        "for col in cols: #добавление значений name\n",
        "  if(i>0):\n",
        "    labels.append(i)\n",
        "  i+=1\n",
        "width = 0.4  #ширина колонок\n",
        "fig, ax = plt.subplots()\n",
        "x = np.arange(len(labels))\n",
        "rects = ax.bar(x - width/2, power, width)\n",
        "ax.set_ylabel('Мощность воздействия')\n",
        "ax.set_title('Слабые стороны')\n",
        "ax.set_xticks(x)\n",
        "ax.set_xticklabels(labels)\n",
        "def autolabel(rects):\n",
        "    #Добавление значений над диграммами\n",
        "    for rect in rects:\n",
        "        height = rect.get_height()\n",
        "        ax.annotate('{}'.format(height),\n",
        "                    xy=(rect.get_x() + rect.get_width() / 2, height),\n",
        "                    xytext=(0, 3), \n",
        "                    textcoords=\"offset points\",\n",
        "                    ha='center', va='bottom')\n",
        "autolabel(rects) #значения над колонками\n",
        "fig.tight_layout()\n",
        "plt.show()              \n",
        "j=0\n",
        "for col in cols: #печать обозначений под диаграммой\n",
        "  if(j>0):\n",
        "    print(j, '-', col)\n",
        "  j+=1"
      ],
      "execution_count": null,
      "outputs": [
        {
          "output_type": "stream",
          "text": [
            "Requirement already up-to-date: gspread in /usr/local/lib/python3.7/dist-packages (3.7.0)\n",
            "Requirement already satisfied, skipping upgrade: google-auth>=1.12.0 in /usr/local/lib/python3.7/dist-packages (from gspread) (1.27.1)\n",
            "Requirement already satisfied, skipping upgrade: google-auth-oauthlib>=0.4.1 in /usr/local/lib/python3.7/dist-packages (from gspread) (0.4.3)\n",
            "Requirement already satisfied, skipping upgrade: cachetools<5.0,>=2.0.0 in /usr/local/lib/python3.7/dist-packages (from google-auth>=1.12.0->gspread) (4.2.1)\n",
            "Requirement already satisfied, skipping upgrade: pyasn1-modules>=0.2.1 in /usr/local/lib/python3.7/dist-packages (from google-auth>=1.12.0->gspread) (0.2.8)\n",
            "Requirement already satisfied, skipping upgrade: six>=1.9.0 in /usr/local/lib/python3.7/dist-packages (from google-auth>=1.12.0->gspread) (1.15.0)\n",
            "Requirement already satisfied, skipping upgrade: rsa<5,>=3.1.4; python_version >= \"3.6\" in /usr/local/lib/python3.7/dist-packages (from google-auth>=1.12.0->gspread) (4.7.2)\n",
            "Requirement already satisfied, skipping upgrade: setuptools>=40.3.0 in /usr/local/lib/python3.7/dist-packages (from google-auth>=1.12.0->gspread) (54.1.2)\n",
            "Requirement already satisfied, skipping upgrade: requests-oauthlib>=0.7.0 in /usr/local/lib/python3.7/dist-packages (from google-auth-oauthlib>=0.4.1->gspread) (1.3.0)\n",
            "Requirement already satisfied, skipping upgrade: pyasn1<0.5.0,>=0.4.6 in /usr/local/lib/python3.7/dist-packages (from pyasn1-modules>=0.2.1->google-auth>=1.12.0->gspread) (0.4.8)\n",
            "Requirement already satisfied, skipping upgrade: requests>=2.0.0 in /usr/local/lib/python3.7/dist-packages (from requests-oauthlib>=0.7.0->google-auth-oauthlib>=0.4.1->gspread) (2.23.0)\n",
            "Requirement already satisfied, skipping upgrade: oauthlib>=3.0.0 in /usr/local/lib/python3.7/dist-packages (from requests-oauthlib>=0.7.0->google-auth-oauthlib>=0.4.1->gspread) (3.1.0)\n",
            "Requirement already satisfied, skipping upgrade: certifi>=2017.4.17 in /usr/local/lib/python3.7/dist-packages (from requests>=2.0.0->requests-oauthlib>=0.7.0->google-auth-oauthlib>=0.4.1->gspread) (2020.12.5)\n",
            "Requirement already satisfied, skipping upgrade: urllib3!=1.25.0,!=1.25.1,<1.26,>=1.21.1 in /usr/local/lib/python3.7/dist-packages (from requests>=2.0.0->requests-oauthlib>=0.7.0->google-auth-oauthlib>=0.4.1->gspread) (1.24.3)\n",
            "Requirement already satisfied, skipping upgrade: chardet<4,>=3.0.2 in /usr/local/lib/python3.7/dist-packages (from requests>=2.0.0->requests-oauthlib>=0.7.0->google-auth-oauthlib>=0.4.1->gspread) (3.0.4)\n",
            "Requirement already satisfied, skipping upgrade: idna<3,>=2.5 in /usr/local/lib/python3.7/dist-packages (from requests>=2.0.0->requests-oauthlib>=0.7.0->google-auth-oauthlib>=0.4.1->gspread) (2.10)\n",
            "\n",
            "РАБОТА С ТАБЛИЦЕЙ\n",
            "total 163\n",
            "drwx------ 2 root   4096 Oct 30 08:28 \u001b[0m\u001b[01;34m'Colab Notebooks'\u001b[0m/\n",
            "-rw------- 1 root  12432 Mar  3 21:13  soundgraph.png\n",
            "-rw------- 1 root    151 Mar 26 07:42  studio.gsheet\n",
            "-rw------- 1 root  28987 Mar 26 07:23  studio.xlsx\n",
            "-rw------- 1 root    151 Mar  3 21:11  swot_sound.gsheet\n",
            "-rw------- 1 root    151 Nov 21 16:45  textpy.gdoc\n",
            "-rw------- 1 root    151 Feb 23 12:58  Бар.gsheet\n",
            "-rw------- 1 root 118328 Mar  8 15:34  снилс.pdf\n",
            "1 ['Конкуренция', 'Большая конкуренция на рынке', '7', '0.5', '3.5', '9.3']\n",
            "2 ['Отключение электричества', 'Остановит работу всей студии', '10', '0.05', '0.5', '']\n",
            "3 ['Клиенты', 'Отсутсвие постоянных клиентов', '5', '0.4', '2', '']\n",
            "4 ['Репутация предприятия', 'Репутация предприятия ещё не сформирована', '7', '0.4', '2.8', '']\n",
            "5 ['Пропадёт интерес к музыке', 'Спрос на запись музыки может резко упасть', '10', '0.05', '0.5', '']\n",
            "\n",
            "\n",
            "['Конкуренция', 'Отключение электричества', 'Клиенты', 'Репутация предприятия', 'Пропадёт интерес к музыке']\n",
            "['Большая конкуренция на рынке', 'Остановит работу всей студии', 'Отсутсвие постоянных клиентов', 'Репутация предприятия ещё не сформирована', 'Спрос на запись музыки может резко упасть']\n",
            "[7, 10, 5, 7, 10]\n",
            "[0.5, 0.05, 0.4, 0.4, 0.05]\n",
            "[3.5, 0.5, 2.0, 2.8000000000000003, 0.5]\n",
            "\n",
            "Суммарная сила сильный сторон: 9.3\n"
          ],
          "name": "stdout"
        },
        {
          "output_type": "display_data",
          "data": {
            "image/png": "[encoded data removed]",
            "text/plain": [
              "<Figure size 432x288 with 1 Axes>"
            ]
          },
          "metadata": {
            "tags": [],
            "needs_background": "light"
          }
        },
        {
          "output_type": "stream",
          "text": [
            "1 - Конкуренция\n",
            "2 - Отключение электричества\n",
            "3 - Клиенты\n",
            "4 - Репутация предприятия\n",
            "5 - Пропадёт интерес к музыке\n"
          ],
          "name": "stdout"
        }
      ]
    },
    {
      "cell_type": "markdown",
      "metadata": {
        "id": "6QH4yxoZbqk7"
      },
      "source": [
        "**Возможности:**"
      ]
    },
    {
      "cell_type": "code",
      "metadata": {
        "colab": {
          "base_uri": "https://localhost:8080/",
          "height": 1000
        },
        "id": "oy2Ev7vadklK",
        "outputId": "ad413b0a-e481-4ea6-fc5a-4a140b28709d"
      },
      "source": [
        "import os\n",
        "import time\n",
        "from google.colab import auth\n",
        "auth.authenticate_user()\n",
        "!pip install --upgrade gspread\n",
        "import gspread\n",
        "from oauth2client.client import GoogleCredentials\n",
        "print('\\nРАБОТА С ТАБЛИЦЕЙ')\n",
        "%ll -lAF /content/drive/MyDrive/\n",
        "gs = gspread.authorize(GoogleCredentials.get_application_default())\n",
        "os.stat('/content/drive/MyDrive/bar.gsheet')\n",
        "table = gs.open_by_key('1dXUHvVAn_PwrBNk9Kz2IQWvNr6GJ__ZVEQ2ZVkH6Q3w')\n",
        "worksheet = table.worksheet('Opportunities')\n",
        "rows = worksheet.get_all_values()\n",
        "name = list()\n",
        "actions = list()\n",
        "importance = list()\n",
        "probability = list()\n",
        "power = list()\n",
        "power_sh = list()\n",
        "power_raw = list()\n",
        "i=0\n",
        "for row in rows:\n",
        "  if(i>0):\n",
        "    print (i, row)\n",
        "    name.append(row[0])\n",
        "    actions.append(row[1])\n",
        "    importance.append(int(row[2]))\n",
        "    probability.append(float(row[3]))\n",
        "    power.append(int(row[2])*float(row[3]))\n",
        "    power_raw = list()\n",
        "    power_raw.append(int(row[2])*float(row[3])) #считается сила\n",
        "    power_sh.append(power_raw)\n",
        "  i+=1\n",
        "worksheet.update('E2:E8', power_sh)\n",
        "print('\\n',name, actions, importance, probability, power, sep='\\n', end='\\n\\n')\n",
        "opportunities_sum = sum(power)\n",
        "print('Суммарная сила возможностей:', opportunities_sum)\n",
        "worksheet.update('F2', opportunities_sum)\n",
        "\n",
        "import matplotlib\n",
        "import matplotlib.pyplot as plt\n",
        "import numpy as np\n",
        "i=0\n",
        "labels = list()\n",
        "cols = worksheet.col_values(1)\n",
        "for col in cols: #добавление значений name\n",
        "  if(i>0):\n",
        "    labels.append(i)\n",
        "  i+=1\n",
        "width = 0.4  #ширина колонок\n",
        "fig, ax = plt.subplots()\n",
        "x = np.arange(len(labels))\n",
        "rects = ax.bar(x - width/2, power, width)\n",
        "ax.set_ylabel('Мощность воздействия')\n",
        "ax.set_title('Возможности')\n",
        "ax.set_xticks(x)\n",
        "ax.set_xticklabels(labels)\n",
        "def autolabel(rects):\n",
        "    #Добавление значений над диграммами\n",
        "    for rect in rects:\n",
        "        height = rect.get_height()\n",
        "        ax.annotate('{}'.format(height),\n",
        "                    xy=(rect.get_x() + rect.get_width() / 2, height),\n",
        "                    xytext=(0, 3), \n",
        "                    textcoords=\"offset points\",\n",
        "                    ha='center', va='bottom')\n",
        "autolabel(rects) #значения над колонками\n",
        "fig.tight_layout()\n",
        "plt.show()              \n",
        "j=0\n",
        "for col in cols: #печать обозначений под диаграммой\n",
        "  if(j>0):\n",
        "    print(j, '-', col)\n",
        "  j+=1"
      ],
      "execution_count": null,
      "outputs": [
        {
          "output_type": "stream",
          "text": [
            "Requirement already up-to-date: gspread in /usr/local/lib/python3.7/dist-packages (3.7.0)\n",
            "Requirement already satisfied, skipping upgrade: google-auth-oauthlib>=0.4.1 in /usr/local/lib/python3.7/dist-packages (from gspread) (0.4.4)\n",
            "Requirement already satisfied, skipping upgrade: google-auth>=1.12.0 in /usr/local/lib/python3.7/dist-packages (from gspread) (1.28.1)\n",
            "Requirement already satisfied, skipping upgrade: requests-oauthlib>=0.7.0 in /usr/local/lib/python3.7/dist-packages (from google-auth-oauthlib>=0.4.1->gspread) (1.3.0)\n",
            "Requirement already satisfied, skipping upgrade: setuptools>=40.3.0 in /usr/local/lib/python3.7/dist-packages (from google-auth>=1.12.0->gspread) (54.2.0)\n",
            "Requirement already satisfied, skipping upgrade: six>=1.9.0 in /usr/local/lib/python3.7/dist-packages (from google-auth>=1.12.0->gspread) (1.15.0)\n",
            "Requirement already satisfied, skipping upgrade: cachetools<5.0,>=2.0.0 in /usr/local/lib/python3.7/dist-packages (from google-auth>=1.12.0->gspread) (4.2.1)\n",
            "Requirement already satisfied, skipping upgrade: rsa<5,>=3.1.4; python_version >= \"3.6\" in /usr/local/lib/python3.7/dist-packages (from google-auth>=1.12.0->gspread) (4.7.2)\n",
            "Requirement already satisfied, skipping upgrade: pyasn1-modules>=0.2.1 in /usr/local/lib/python3.7/dist-packages (from google-auth>=1.12.0->gspread) (0.2.8)\n",
            "Requirement already satisfied, skipping upgrade: oauthlib>=3.0.0 in /usr/local/lib/python3.7/dist-packages (from requests-oauthlib>=0.7.0->google-auth-oauthlib>=0.4.1->gspread) (3.1.0)\n",
            "Requirement already satisfied, skipping upgrade: requests>=2.0.0 in /usr/local/lib/python3.7/dist-packages (from requests-oauthlib>=0.7.0->google-auth-oauthlib>=0.4.1->gspread) (2.23.0)\n",
            "Requirement already satisfied, skipping upgrade: pyasn1>=0.1.3 in /usr/local/lib/python3.7/dist-packages (from rsa<5,>=3.1.4; python_version >= \"3.6\"->google-auth>=1.12.0->gspread) (0.4.8)\n",
            "Requirement already satisfied, skipping upgrade: chardet<4,>=3.0.2 in /usr/local/lib/python3.7/dist-packages (from requests>=2.0.0->requests-oauthlib>=0.7.0->google-auth-oauthlib>=0.4.1->gspread) (3.0.4)\n",
            "Requirement already satisfied, skipping upgrade: idna<3,>=2.5 in /usr/local/lib/python3.7/dist-packages (from requests>=2.0.0->requests-oauthlib>=0.7.0->google-auth-oauthlib>=0.4.1->gspread) (2.10)\n",
            "Requirement already satisfied, skipping upgrade: urllib3!=1.25.0,!=1.25.1,<1.26,>=1.21.1 in /usr/local/lib/python3.7/dist-packages (from requests>=2.0.0->requests-oauthlib>=0.7.0->google-auth-oauthlib>=0.4.1->gspread) (1.24.3)\n",
            "Requirement already satisfied, skipping upgrade: certifi>=2017.4.17 in /usr/local/lib/python3.7/dist-packages (from requests>=2.0.0->requests-oauthlib>=0.7.0->google-auth-oauthlib>=0.4.1->gspread) (2020.12.5)\n",
            "\n",
            "РАБОТА С ТАБЛИЦЕЙ\n",
            "total 193\n",
            "-rw------- 1 root    151 Apr 14 20:51  bar.gsheet\n",
            "-rw------- 1 root  29689 Apr 14 20:45  bar.xlsx\n",
            "drwx------ 2 root   4096 Oct 30 11:28 \u001b[0m\u001b[01;34m'Colab Notebooks'\u001b[0m/\n",
            "-rw------- 1 root  12432 Mar  4 00:13  soundgraph.png\n",
            "-rw------- 1 root    151 Apr 12 15:19  studio.gsheet\n",
            "-rw------- 1 root  29689 Apr 14 20:44  studio.xlsx\n",
            "-rw------- 1 root    151 Mar  4 00:11  swot_sound.gsheet\n",
            "-rw------- 1 root    151 Nov 21 19:45  textpy.gdoc\n",
            "-rw------- 1 root    151 Feb 23 15:58  Бар.gsheet\n",
            "-rw------- 1 root 118328 Mar  8 18:34  снилс.pdf\n",
            "1 ['Сделать клиентов постоянными', 'Приятные условия в баре и качественные напитки сделают клиентов постоянными  ', '9', '0.8', '7.2', '33.1']\n",
            "2 ['Организация различных событий', 'Интересные события помогут завлечь новых клиентов', '9', '1', '9', '']\n",
            "3 ['Бонусы за привлечение друзей', 'Бонусы и скидки за привлечение друзей помогут сохранить старых клиентов и завлечь новых', '8', '0.8', '6.4', '']\n",
            "4 ['Неоновые вывески', 'Неоновые вывески привлекают людей, а так же служат хорошей возможностью сделать фото, которые потом увидят потенциальные клиенты', '7', '0.6', '4.2', '']\n",
            "5 ['Реклама через инстаграм', 'Возможность завлечь клиентов в самой популярной социальной сети', '7', '0.9', '6.3', '']\n",
            "6 ['Разнообразие', 'Большой выбор напитков и закусок', '8', '0.9', '7.2', '']\n",
            "\n",
            "\n",
            "['Сделать клиентов постоянными', 'Организация различных событий', 'Бонусы за привлечение друзей', 'Неоновые вывески', 'Реклама через инстаграм', 'Разнообразие']\n",
            "['Приятные условия в баре и качественные напитки сделают клиентов постоянными  ', 'Интересные события помогут завлечь новых клиентов', 'Бонусы и скидки за привлечение друзей помогут сохранить старых клиентов и завлечь новых', 'Неоновые вывески привлекают людей, а так же служат хорошей возможностью сделать фото, которые потом увидят потенциальные клиенты', 'Возможность завлечь клиентов в самой популярной социальной сети', 'Большой выбор напитков и закусок']\n",
            "[9, 9, 8, 7, 7, 8]\n",
            "[0.8, 1.0, 0.8, 0.6, 0.9, 0.9]\n",
            "[7.2, 9.0, 6.4, 4.2, 6.3, 7.2]\n",
            "\n",
            "Суммарная сила сильный сторон: 40.300000000000004\n"
          ],
          "name": "stdout"
        },
        {
          "output_type": "display_data",
          "data": {
            "image/png": "[encoded data removed]",
            "text/plain": [
              "<Figure size 432x288 with 1 Axes>"
            ]
          },
          "metadata": {
            "tags": [],
            "needs_background": "light"
          }
        },
        {
          "output_type": "stream",
          "text": [
            "1 - Сделать клиентов постоянными\n",
            "2 - Организация различных событий\n",
            "3 - Бонусы за привлечение друзей\n",
            "4 - Неоновые вывески\n",
            "5 - Реклама через инстаграм\n",
            "6 - Разнообразие\n"
          ],
          "name": "stdout"
        }
      ]
    },
    {
      "cell_type": "markdown",
      "metadata": {
        "id": "N60rlX31b2nM"
      },
      "source": [
        "**Угрозы:**"
      ]
    },
    {
      "cell_type": "code",
      "metadata": {
        "colab": {
          "base_uri": "https://localhost:8080/",
          "height": 1000
        },
        "id": "ix6WqeJkejJu",
        "outputId": "467268ba-a8b2-4f5a-f324-a645572d0315"
      },
      "source": [
        "import os\n",
        "import time\n",
        "from google.colab import auth\n",
        "auth.authenticate_user()\n",
        "!pip install --upgrade gspread\n",
        "import gspread\n",
        "from oauth2client.client import GoogleCredentials\n",
        "print('\\nРАБОТА С ТАБЛИЦЕЙ')\n",
        "%ll -lAF /content/drive/MyDrive/\n",
        "gs = gspread.authorize(GoogleCredentials.get_application_default())\n",
        "os.stat('/content/drive/MyDrive/bar.gsheet')\n",
        "table = gs.open_by_key('1dXUHvVAn_PwrBNk9Kz2IQWvNr6GJ__ZVEQ2ZVkH6Q3w')\n",
        "worksheet = table.worksheet('Threats')\n",
        "rows = worksheet.get_all_values()\n",
        "name = list()\n",
        "actions = list()\n",
        "importance = list()\n",
        "probability = list()\n",
        "power = list()\n",
        "power_sh = list()\n",
        "power_raw = list()\n",
        "i=0\n",
        "for row in rows:\n",
        "  if(i>0):\n",
        "    print (i, row)\n",
        "    name.append(row[0])\n",
        "    actions.append(row[1])\n",
        "    importance.append(int(row[2]))\n",
        "    probability.append(float(row[3]))\n",
        "    power.append(int(row[2])*float(row[3]))\n",
        "    power_raw = list()\n",
        "    power_raw.append(int(row[2])*float(row[3])) #считается сила\n",
        "    power_sh.append(power_raw)\n",
        "  i+=1\n",
        "worksheet.update('E2:E8', power_sh)\n",
        "print('\\n',name, actions, importance, probability, power, sep='\\n', end='\\n\\n')\n",
        "threats_sum = sum(power)\n",
        "print('Суммарная сила угроз:', threats_sum)\n",
        "worksheet.update('F2', threats_sum)\n",
        "\n",
        "import matplotlib\n",
        "import matplotlib.pyplot as plt\n",
        "import numpy as np\n",
        "i=0\n",
        "labels = list()\n",
        "cols = worksheet.col_values(1)\n",
        "for col in cols: #добавление значений name\n",
        "  if(i>0):\n",
        "    labels.append(i)\n",
        "  i+=1\n",
        "width = 0.4  #ширина колонок\n",
        "fig, ax = plt.subplots()\n",
        "x = np.arange(len(labels))\n",
        "rects = ax.bar(x - width/2, power, width)\n",
        "ax.set_ylabel('Мощность воздействия')\n",
        "ax.set_title('Угрозы')\n",
        "ax.set_xticks(x)\n",
        "ax.set_xticklabels(labels)\n",
        "def autolabel(rects):\n",
        "    #Добавление значений над диграммами\n",
        "    for rect in rects:\n",
        "        height = rect.get_height()\n",
        "        ax.annotate('{}'.format(height),\n",
        "                    xy=(rect.get_x() + rect.get_width() / 2, height),\n",
        "                    xytext=(0, 3), \n",
        "                    textcoords=\"offset points\",\n",
        "                    ha='center', va='bottom')\n",
        "autolabel(rects) #значения над колонками\n",
        "fig.tight_layout()\n",
        "plt.show()              \n",
        "j=0\n",
        "for col in cols: #печать обозначений под диаграммой\n",
        "  if(j>0):\n",
        "    print(j, '-', col)\n",
        "  j+=1"
      ],
      "execution_count": null,
      "outputs": [
        {
          "output_type": "stream",
          "text": [
            "Requirement already up-to-date: gspread in /usr/local/lib/python3.7/dist-packages (3.7.0)\n",
            "Requirement already satisfied, skipping upgrade: google-auth>=1.12.0 in /usr/local/lib/python3.7/dist-packages (from gspread) (1.28.1)\n",
            "Requirement already satisfied, skipping upgrade: google-auth-oauthlib>=0.4.1 in /usr/local/lib/python3.7/dist-packages (from gspread) (0.4.4)\n",
            "Requirement already satisfied, skipping upgrade: rsa<5,>=3.1.4; python_version >= \"3.6\" in /usr/local/lib/python3.7/dist-packages (from google-auth>=1.12.0->gspread) (4.7.2)\n",
            "Requirement already satisfied, skipping upgrade: six>=1.9.0 in /usr/local/lib/python3.7/dist-packages (from google-auth>=1.12.0->gspread) (1.15.0)\n",
            "Requirement already satisfied, skipping upgrade: cachetools<5.0,>=2.0.0 in /usr/local/lib/python3.7/dist-packages (from google-auth>=1.12.0->gspread) (4.2.1)\n",
            "Requirement already satisfied, skipping upgrade: pyasn1-modules>=0.2.1 in /usr/local/lib/python3.7/dist-packages (from google-auth>=1.12.0->gspread) (0.2.8)\n",
            "Requirement already satisfied, skipping upgrade: setuptools>=40.3.0 in /usr/local/lib/python3.7/dist-packages (from google-auth>=1.12.0->gspread) (54.2.0)\n",
            "Requirement already satisfied, skipping upgrade: requests-oauthlib>=0.7.0 in /usr/local/lib/python3.7/dist-packages (from google-auth-oauthlib>=0.4.1->gspread) (1.3.0)\n",
            "Requirement already satisfied, skipping upgrade: pyasn1>=0.1.3 in /usr/local/lib/python3.7/dist-packages (from rsa<5,>=3.1.4; python_version >= \"3.6\"->google-auth>=1.12.0->gspread) (0.4.8)\n",
            "Requirement already satisfied, skipping upgrade: requests>=2.0.0 in /usr/local/lib/python3.7/dist-packages (from requests-oauthlib>=0.7.0->google-auth-oauthlib>=0.4.1->gspread) (2.23.0)\n",
            "Requirement already satisfied, skipping upgrade: oauthlib>=3.0.0 in /usr/local/lib/python3.7/dist-packages (from requests-oauthlib>=0.7.0->google-auth-oauthlib>=0.4.1->gspread) (3.1.0)\n",
            "Requirement already satisfied, skipping upgrade: certifi>=2017.4.17 in /usr/local/lib/python3.7/dist-packages (from requests>=2.0.0->requests-oauthlib>=0.7.0->google-auth-oauthlib>=0.4.1->gspread) (2020.12.5)\n",
            "Requirement already satisfied, skipping upgrade: idna<3,>=2.5 in /usr/local/lib/python3.7/dist-packages (from requests>=2.0.0->requests-oauthlib>=0.7.0->google-auth-oauthlib>=0.4.1->gspread) (2.10)\n",
            "Requirement already satisfied, skipping upgrade: urllib3!=1.25.0,!=1.25.1,<1.26,>=1.21.1 in /usr/local/lib/python3.7/dist-packages (from requests>=2.0.0->requests-oauthlib>=0.7.0->google-auth-oauthlib>=0.4.1->gspread) (1.24.3)\n",
            "Requirement already satisfied, skipping upgrade: chardet<4,>=3.0.2 in /usr/local/lib/python3.7/dist-packages (from requests>=2.0.0->requests-oauthlib>=0.7.0->google-auth-oauthlib>=0.4.1->gspread) (3.0.4)\n",
            "\n",
            "РАБОТА С ТАБЛИЦЕЙ\n",
            "total 193\n",
            "-rw------- 1 root    151 Apr 14 20:51  bar.gsheet\n",
            "-rw------- 1 root  29689 Apr 14 20:45  bar.xlsx\n",
            "drwx------ 2 root   4096 Oct 30 11:28 \u001b[0m\u001b[01;34m'Colab Notebooks'\u001b[0m/\n",
            "-rw------- 1 root  12432 Mar  4 00:13  soundgraph.png\n",
            "-rw------- 1 root    151 Apr 12 15:19  studio.gsheet\n",
            "-rw------- 1 root  29689 Apr 14 20:44  studio.xlsx\n",
            "-rw------- 1 root    151 Mar  4 00:11  swot_sound.gsheet\n",
            "-rw------- 1 root    151 Nov 21 19:45  textpy.gdoc\n",
            "-rw------- 1 root    151 Feb 23 15:58  Бар.gsheet\n",
            "-rw------- 1 root 118328 Mar  8 18:34  снилс.pdf\n",
            "1 ['Кризис', 'Экономический кризис снизит спрос', '10', '0.2', '2', '11.1']\n",
            "2 ['Конкуренция', 'Большое кол-во конкурентов в городе, особенно в центре', '9', '0.7', '6.3', '']\n",
            "3 ['Постоянные клиенты у конкурентов', 'Часть людей уже имеют любимый бар, который не захотят менять', '8', '0.2', '1.6', '']\n",
            "4 ['Грубые клиенты', 'Могут прийти грубые клиенты, которые будут хамить и даже устроить драку', '4', '0.3', '1.2', '']\n",
            "\n",
            "\n",
            "['Кризис', 'Конкуренция', 'Постоянные клиенты у конкурентов', 'Грубые клиенты']\n",
            "['Экономический кризис снизит спрос', 'Большое кол-во конкурентов в городе, особенно в центре', 'Часть людей уже имеют любимый бар, который не захотят менять', 'Могут прийти грубые клиенты, которые будут хамить и даже устроить драку']\n",
            "[10, 9, 8, 4]\n",
            "[0.2, 0.7, 0.2, 0.3]\n",
            "[2.0, 6.3, 1.6, 1.2]\n",
            "\n",
            "Суммарная сила сильный сторон: 11.1\n"
          ],
          "name": "stdout"
        },
        {
          "output_type": "display_data",
          "data": {
            "image/png": "[encoded data removed]",
            "text/plain": [
              "<Figure size 432x288 with 1 Axes>"
            ]
          },
          "metadata": {
            "tags": [],
            "needs_background": "light"
          }
        },
        {
          "output_type": "stream",
          "text": [
            "1 - Кризис\n",
            "2 - Конкуренция\n",
            "3 - Постоянные клиенты у конкурентов\n",
            "4 - Грубые клиенты\n"
          ],
          "name": "stdout"
        }
      ]
    },
    {
      "cell_type": "markdown",
      "metadata": {
        "id": "DdRYsJHpb7d6"
      },
      "source": [
        "**Общий результат:**"
      ]
    },
    {
      "cell_type": "code",
      "metadata": {
        "colab": {
          "base_uri": "https://localhost:8080/",
          "height": 515
        },
        "id": "nvDVQVxPfu_M",
        "outputId": "37384c6e-f777-4b19-9864-485885bdcf35"
      },
      "source": [
        "#копирование значений силы из листов\n",
        "worksheet = table.worksheet('Strengths')\n",
        "strengths_power = worksheet.acell('F2').value\n",
        "worksheet = table.worksheet('Weaknesses')\n",
        "weaknesses_power = worksheet.acell('F2').value\n",
        "worksheet = table.worksheet('Opportunities')\n",
        "opportunities_power = worksheet.acell('F2').value\n",
        "worksheet = table.worksheet('Threats')\n",
        "threats_power = worksheet.acell('F2').value\n",
        "#добавление в таблицу result\n",
        "worksheet = table.worksheet('Result')\n",
        "worksheet.update('A1', 'Суммарная сила сильных сторон')\n",
        "worksheet.update('A2', strengths_power)\n",
        "worksheet.update('B1', 'Суммарная сила слабых сторон') \n",
        "worksheet.update('B2', weaknesses_power)\n",
        "worksheet.update('A4', 'Суммарная сила возможностей') \n",
        "worksheet.update('A5', opportunities_power)\n",
        "worksheet.update('B4', 'Суммарная сила угроз') \n",
        "worksheet.update('B5', threats_power)\n",
        "#подсчет результата анализа и добавление его в таблицу\n",
        "result = float(strengths_power) - 1*float(weaknesses_power) + float(opportunities_power) - 1*float(threats_power)\n",
        "print('Результат:', result)\n",
        "worksheet = table.worksheet('Result')\n",
        "worksheet.update('A7', 'Результат')\n",
        "worksheet.update('A8', result)\n",
        "#создание графика\n",
        "def matplot(element):\n",
        "    import matplotlib.pyplot as plt\n",
        "    x=list()\n",
        "    x_float=list()\n",
        "    title=list()\n",
        "    y_float=list()\n",
        "x_float = [1, 2, 3, 4, 5]\n",
        "y_float = [float(strengths_power), -1*float(weaknesses_power), float(opportunities_power), -1*float(threats_power),  result]\n",
        "title = [ \"Сильные стороны\", \"Слабые стороны\", \"Возможности\", \"Угорозы\", \"Результат\"]\n",
        "x_pos=list()\n",
        "i=0\n",
        "for i in range(x_float.__len__()):\n",
        "  x_pos.append(i)\n",
        "\n",
        "fig=plt.figure(figsize=(8,6), dpi=72)\n",
        "plt.bar(x_pos, y_float, width=0.75, align='edge', alpha=0.4)\n",
        "plt.xticks(x_pos,  x_float, fontsize=14)\n",
        "plt.xlabel('Обозначения', fontsize=14)\n",
        "plt.ylabel('Мощность воздействия', fontsize=14)\n",
        "plt.title('SWOT', fontsize=14)\n",
        "plt.grid(True, color='r', linestyle='-', linewidth=2)\n",
        "plt.show()\n",
        "#печать заголовков\n",
        "for i in range(title.__len__()):\n",
        "  print(i+1, \" - \", title[i])\n",
        "  i += 1"
      ],
      "execution_count": null,
      "outputs": [
        {
          "output_type": "stream",
          "text": [
            "Результат: 55.35\n"
          ],
          "name": "stdout"
        },
        {
          "output_type": "display_data",
          "data": {
            "image/png": "[encoded data removed]",
            "text/plain": [
              "<Figure size 576x432 with 1 Axes>"
            ]
          },
          "metadata": {
            "tags": [],
            "needs_background": "light"
          }
        },
        {
          "output_type": "stream",
          "text": [
            "1  -  Сильные стороны\n",
            "2  -  Слабые стороны\n",
            "3  -  Возможности\n",
            "4  -  Угорозы\n",
            "5  -  Результат\n"
          ],
          "name": "stdout"
        }
      ]
    }
  ]
}